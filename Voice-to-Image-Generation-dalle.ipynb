{
 "cells": [
  {
   "cell_type": "markdown",
   "id": "192225d3-2f0a-4268-a843-96b4e00cf160",
   "metadata": {
    "tags": []
   },
   "source": [
    "## Import Necessary Libraries"
   ]
  },
  {
   "cell_type": "code",
   "execution_count": 1,
   "id": "51835d42-0a87-4529-8029-eab47251a221",
   "metadata": {},
   "outputs": [],
   "source": [
    "import gradio as gr\n",
    "import openai\n",
    "from apikey import APIKEY\n",
    "\n",
    "import warnings\n",
    "\n",
    "warnings.filterwarnings(\"ignore\")"
   ]
  },
  {
   "cell_type": "code",
   "execution_count": 2,
   "id": "7cdcc63a-8d6d-4784-9747-448028c99af8",
   "metadata": {},
   "outputs": [],
   "source": [
    "# Add the access key generated from your OpenAI account\n",
    "\n",
    "openai.api_key = APIKEY"
   ]
  },
  {
   "cell_type": "markdown",
   "id": "dd32e654-b1be-4a54-92c1-dc4961d893d0",
   "metadata": {
    "tags": []
   },
   "source": [
    "## Create ChatGPT Dalle prompt"
   ]
  },
  {
   "cell_type": "code",
   "execution_count": 3,
   "id": "b4ba5543-e30e-4332-ba3c-d75f0922b6f8",
   "metadata": {},
   "outputs": [],
   "source": [
    "def chatgpt_api(input_text):\n",
    "    messages = [\n",
    "        {\"role\":\"system\", \"content\":\"You are a helpful assistant.\"}\n",
    "    ]\n",
    "    if input_text:\n",
    "        messages.append(\n",
    "            {\"role\":\"system\", \"content\":'Summarize this text \"{}\" into a short and concise Dall-e2 prompt'.format(input_text)}\n",
    "        )\n",
    "        chat_completion = openai.ChatCompletion.create(\n",
    "            model = \"gpt-3.5-turbo\", messages=messages\n",
    "        )\n",
    "    reply = chat_completion.choices[0].message.content\n",
    "    return reply"
   ]
  },
  {
   "cell_type": "markdown",
   "id": "fe128b5e-c124-4165-9768-2fbe69b73a19",
   "metadata": {
    "tags": []
   },
   "source": [
    "## Dalle 2 Image generation"
   ]
  },
  {
   "cell_type": "code",
   "execution_count": 4,
   "id": "9f885177-b283-4ae5-bfb5-0047100838c0",
   "metadata": {},
   "outputs": [],
   "source": [
    "def dall_e_api(dalle_prompt):\n",
    "    dalle_response = openai.Image.create(\n",
    "        prompt = dalle_prompt,\n",
    "        size = \"512x512\"\n",
    "    )\n",
    "    image_url = dalle_response['data'][0]['url']\n",
    "    return image_url"
   ]
  },
  {
   "cell_type": "markdown",
   "id": "61f45b59-d43f-4dcb-b17d-2268ec1acbbf",
   "metadata": {
    "tags": []
   },
   "source": [
    "## Speech to text transaction Function"
   ]
  },
  {
   "cell_type": "code",
   "execution_count": 5,
   "id": "b39d62ee-e9d0-4bfb-9fbf-d2e9b83dc51d",
   "metadata": {},
   "outputs": [],
   "source": [
    "def whisper_transcribe(audio):\n",
    "    os.rename(audio, audio + \".wav\")\n",
    "    audio_file = open(audio + \".wav\", \"rb\")\n",
    "    transcript = openai.Audio.transcribe(\"whisper-1\", audio_file)\n",
    "    dalle_prompt = chatgpt_api(transcript[\"text\"])\n",
    "    image_url = dall_e_api(dalle_prompt)\n",
    "    return transcript[\"text\"], image_url"
   ]
  },
  {
   "cell_type": "markdown",
   "id": "e4f614f0-e1a9-4997-a246-135c54f589bf",
   "metadata": {
    "tags": []
   },
   "source": [
    "## Gradio Interface"
   ]
  },
  {
   "cell_type": "code",
   "execution_count": 6,
   "id": "a8335e3d-0af7-4131-9ae5-cf418afc9413",
   "metadata": {},
   "outputs": [],
   "source": [
    "output_1 = gr.Textbox(label=\"Speech to Text\")\n",
    "output_2 = gr.Image(label=\"DALL-E Image\")\n"
   ]
  },
  {
   "cell_type": "code",
   "execution_count": null,
   "id": "f4b19000-19d2-41ac-93f9-b112d5a7ee63",
   "metadata": {
    "collapsed": true
   },
   "outputs": [],
   "source": [
    "speech_interface = gr.Interface(\n",
    "    fn = whisper_transcribe,\n",
    "    inputs = gr.Audio(source=\"microphone\", type=\"filepath\"),\n",
    "    outputs = [output_1, output_2],\n",
    "    title = \"Generate Images Using Your Voice\")\n",
    "speech_interface.launch(debug=True, share=True)"
   ]
  }
 ],
 "metadata": {
  "kernelspec": {
   "display_name": "Python 3 (ipykernel)",
   "language": "python",
   "name": "python3"
  },
  "language_info": {
   "codemirror_mode": {
    "name": "ipython",
    "version": 3
   },
   "file_extension": ".py",
   "mimetype": "text/x-python",
   "name": "python",
   "nbconvert_exporter": "python",
   "pygments_lexer": "ipython3",
   "version": "3.11.3"
  }
 },
 "nbformat": 4,
 "nbformat_minor": 5
}
